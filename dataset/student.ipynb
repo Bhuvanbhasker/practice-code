{
 "cells": [
  {
   "cell_type": "code",
   "execution_count": 17,
   "metadata": {},
   "outputs": [
    {
     "name": "stdout",
     "output_type": "stream",
     "text": [
      "First few rows of the dataset:\n",
      "    Name  Gender  Age  StudyHours  Grade\n",
      "0   John    Male   20         5.0     85\n",
      "1  Alice  Female   22         6.0     92\n",
      "2    Bob    Male   21         4.0     78\n",
      "3    Eva  Female   23         5.5     88\n",
      "4   Mike    Male   22         6.5     95\n",
      "\n",
      "Summary statistics:\n",
      "             Age  StudyHours      Grade\n",
      "count   8.000000    8.000000   8.000000\n",
      "mean   21.500000    5.437500  87.625000\n",
      "std     1.195229    1.015505   7.029276\n",
      "min    20.000000    4.000000  78.000000\n",
      "25%    20.750000    4.875000  83.750000\n",
      "50%    21.500000    5.250000  86.500000\n",
      "75%    22.250000    6.125000  92.750000\n",
      "max    23.000000    7.000000  98.000000\n",
      "\n",
      "Missing values:\n",
      "Name          0\n",
      "Gender        0\n",
      "Age           0\n",
      "StudyHours    0\n",
      "Grade         0\n",
      "dtype: int64\n",
      "\n",
      "Distribution of gender:\n",
      "Gender\n",
      "Male      4\n",
      "Female    4\n",
      "Name: count, dtype: int64\n",
      "\n",
      "Average Grade by Gender:\n",
      "Gender\n",
      "Female    86.25\n",
      "Male      89.00\n",
      "Name: Grade, dtype: float64\n",
      "\n",
      "Correlation between Study Hours and Grade: 0.9968911760677591\n"
     ]
    }
   ],
   "source": [
    "# Import necessary libraries\n",
    "import pandas as pd\n",
    "\n",
    "# Create a sample dataset\n",
    "data = {\n",
    "    'Name': ['John', 'Alice', 'Bob', 'Eva', 'Mike', 'Sara', 'Chris', 'Emma'],\n",
    "    'Gender': ['Male', 'Female', 'Male', 'Female', 'Male', 'Female', 'Male', 'Female'],\n",
    "    'Age': [20, 22, 21, 23, 22, 20, 23, 21],\n",
    "    'StudyHours': [5, 6, 4, 5.5, 6.5, 4.5, 7, 5],\n",
    "    'Grade': [85, 92, 78, 88, 95, 80, 98, 85]\n",
    "}\n",
    "\n",
    "# Create a DataFrame from the sample data\n",
    "student_data = pd.DataFrame(data)\n",
    "\n",
    "# Display the first few rows of the dataset\n",
    "print(\"First few rows of the dataset:\")\n",
    "print(student_data.head())\n",
    "\n",
    "# Summary statistics of the numerical columns\n",
    "print(\"\\nSummary statistics:\")\n",
    "print(student_data.describe())\n",
    "\n",
    "# Check for missing values\n",
    "print(\"\\nMissing values:\")\n",
    "print(student_data.isnull().sum())\n",
    "\n",
    "# Distribution of categorical variables\n",
    "print(\"\\nDistribution of gender:\")\n",
    "print(student_data['Gender'].value_counts())\n",
    "\n",
    "# Average grade by gender\n",
    "average_grade_by_gender = student_data.groupby('Gender')['Grade'].mean()\n",
    "print(\"\\nAverage Grade by Gender:\")\n",
    "print(average_grade_by_gender)\n",
    "\n",
    "# Correlation between study hours and grades\n",
    "correlation = student_data['StudyHours'].corr(student_data['Grade'])\n",
    "print(\"\\nCorrelation between Study Hours and Grade:\", correlation)\n"
   ]
  }
 ],
 "metadata": {
  "kernelspec": {
   "display_name": "Python 3",
   "language": "python",
   "name": "python3"
  },
  "language_info": {
   "codemirror_mode": {
    "name": "ipython",
    "version": 3
   },
   "file_extension": ".py",
   "mimetype": "text/x-python",
   "name": "python",
   "nbconvert_exporter": "python",
   "pygments_lexer": "ipython3",
   "version": "3.11.6"
  }
 },
 "nbformat": 4,
 "nbformat_minor": 2
}
