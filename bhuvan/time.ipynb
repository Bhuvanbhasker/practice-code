{
 "cells": [
  {
   "cell_type": "code",
   "execution_count": 1,
   "metadata": {},
   "outputs": [
    {
     "name": "stdout",
     "output_type": "stream",
     "text": [
      "1699724470.245706\n"
     ]
    }
   ],
   "source": [
    "import time;  \n",
    "#prints the number of ticks spent since 12 AM, 1st January 1970  \n",
    "print(time.time())  "
   ]
  },
  {
   "cell_type": "code",
   "execution_count": 2,
   "metadata": {},
   "outputs": [
    {
     "name": "stdout",
     "output_type": "stream",
     "text": [
      "time.struct_time(tm_year=2023, tm_mon=11, tm_mday=11, tm_hour=23, tm_min=11, tm_sec=41, tm_wday=5, tm_yday=315, tm_isdst=0)\n"
     ]
    }
   ],
   "source": [
    "import time;    \n",
    "    \n",
    "#returns a time tuple     \n",
    "    \n",
    "print(time.localtime(time.time())) "
   ]
  },
  {
   "cell_type": "code",
   "execution_count": 3,
   "metadata": {},
   "outputs": [
    {
     "name": "stdout",
     "output_type": "stream",
     "text": [
      "Sat Nov 11 23:12:14 2023\n"
     ]
    }
   ],
   "source": [
    "import time    \n",
    "  #returns the formatted time      \n",
    "  \n",
    "print(time.asctime(time.localtime(time.time())))  "
   ]
  },
  {
   "cell_type": "code",
   "execution_count": 5,
   "metadata": {},
   "outputs": [
    {
     "name": "stdout",
     "output_type": "stream",
     "text": [
      "0\n",
      "1\n",
      "2\n",
      "3\n",
      "4\n"
     ]
    }
   ],
   "source": [
    "import time  \n",
    "for i in range(0,5):  \n",
    "    print(i)  \n",
    "    #Each element will be printed after 1 second  \n",
    "    time.sleep(1)  "
   ]
  },
  {
   "cell_type": "code",
   "execution_count": 6,
   "metadata": {},
   "outputs": [
    {
     "name": "stdout",
     "output_type": "stream",
     "text": [
      "2023-11-11 23:15:21.614992\n"
     ]
    }
   ],
   "source": [
    "import datetime  \n",
    "#returns the current datetime object     \n",
    "print(datetime.datetime.now())  "
   ]
  },
  {
   "cell_type": "code",
   "execution_count": 9,
   "metadata": {},
   "outputs": [
    {
     "name": "stdout",
     "output_type": "stream",
     "text": [
      "2020-04-04 00:00:00\n"
     ]
    }
   ],
   "source": [
    "import datetime\n",
    "\n",
    "# Corrected line without leading zeros\n",
    "print(datetime.datetime(2020, 4, 4))\n"
   ]
  },
  {
   "cell_type": "code",
   "execution_count": 10,
   "metadata": {},
   "outputs": [
    {
     "name": "stdout",
     "output_type": "stream",
     "text": [
      "2020-04-04 01:26:40\n"
     ]
    }
   ],
   "source": [
    "import datetime  \n",
    "    \n",
    "#returns the datetime object for the specified time      \n",
    "    \n",
    "print(datetime.datetime(2020,4,4,1,26,40))    "
   ]
  },
  {
   "cell_type": "code",
   "execution_count": 11,
   "metadata": {},
   "outputs": [
    {
     "name": "stdout",
     "output_type": "stream",
     "text": [
      "fun hours\n"
     ]
    }
   ],
   "source": [
    "from datetime import datetime as dt    \n",
    "#Compares the time. If the time is in between 8AM and 4PM, then it prints working hours otherwise it prints fun hours    \n",
    "if dt(dt.now().year,dt.now().month,dt.now().day,8)<dt.now()<dt(dt.now().year,dt.now().month,dt.now().day,16):    \n",
    "    print(\"Working hours....\")    \n",
    "else:    \n",
    "    print(\"fun hours\")   "
   ]
  },
  {
   "cell_type": "code",
   "execution_count": 12,
   "metadata": {},
   "outputs": [
    {
     "name": "stdout",
     "output_type": "stream",
     "text": [
      "     March 2020\n",
      "Mo Tu We Th Fr Sa Su\n",
      "                   1\n",
      " 2  3  4  5  6  7  8\n",
      " 9 10 11 12 13 14 15\n",
      "16 17 18 19 20 21 22\n",
      "23 24 25 26 27 28 29\n",
      "30 31\n",
      "\n"
     ]
    }
   ],
   "source": [
    "import calendar;    \n",
    "cal = calendar.month(2020,3)    \n",
    "#printing the calendar of December 2018    \n",
    "print(cal)    "
   ]
  },
  {
   "cell_type": "code",
   "execution_count": 13,
   "metadata": {},
   "outputs": [
    {
     "name": "stdout",
     "output_type": "stream",
     "text": [
      "                                  2020\n",
      "\n",
      "      January                   February                   March\n",
      "Mo Tu We Th Fr Sa Su      Mo Tu We Th Fr Sa Su      Mo Tu We Th Fr Sa Su\n",
      "       1  2  3  4  5                      1  2                         1\n",
      " 6  7  8  9 10 11 12       3  4  5  6  7  8  9       2  3  4  5  6  7  8\n",
      "13 14 15 16 17 18 19      10 11 12 13 14 15 16       9 10 11 12 13 14 15\n",
      "20 21 22 23 24 25 26      17 18 19 20 21 22 23      16 17 18 19 20 21 22\n",
      "27 28 29 30 31            24 25 26 27 28 29         23 24 25 26 27 28 29\n",
      "                                                    30 31\n",
      "\n",
      "       April                      May                       June\n",
      "Mo Tu We Th Fr Sa Su      Mo Tu We Th Fr Sa Su      Mo Tu We Th Fr Sa Su\n",
      "       1  2  3  4  5                   1  2  3       1  2  3  4  5  6  7\n",
      " 6  7  8  9 10 11 12       4  5  6  7  8  9 10       8  9 10 11 12 13 14\n",
      "13 14 15 16 17 18 19      11 12 13 14 15 16 17      15 16 17 18 19 20 21\n",
      "20 21 22 23 24 25 26      18 19 20 21 22 23 24      22 23 24 25 26 27 28\n",
      "27 28 29 30               25 26 27 28 29 30 31      29 30\n",
      "\n",
      "        July                     August                  September\n",
      "Mo Tu We Th Fr Sa Su      Mo Tu We Th Fr Sa Su      Mo Tu We Th Fr Sa Su\n",
      "       1  2  3  4  5                      1  2          1  2  3  4  5  6\n",
      " 6  7  8  9 10 11 12       3  4  5  6  7  8  9       7  8  9 10 11 12 13\n",
      "13 14 15 16 17 18 19      10 11 12 13 14 15 16      14 15 16 17 18 19 20\n",
      "20 21 22 23 24 25 26      17 18 19 20 21 22 23      21 22 23 24 25 26 27\n",
      "27 28 29 30 31            24 25 26 27 28 29 30      28 29 30\n",
      "                          31\n",
      "\n",
      "      October                   November                  December\n",
      "Mo Tu We Th Fr Sa Su      Mo Tu We Th Fr Sa Su      Mo Tu We Th Fr Sa Su\n",
      "          1  2  3  4                         1          1  2  3  4  5  6\n",
      " 5  6  7  8  9 10 11       2  3  4  5  6  7  8       7  8  9 10 11 12 13\n",
      "12 13 14 15 16 17 18       9 10 11 12 13 14 15      14 15 16 17 18 19 20\n",
      "19 20 21 22 23 24 25      16 17 18 19 20 21 22      21 22 23 24 25 26 27\n",
      "26 27 28 29 30 31         23 24 25 26 27 28 29      28 29 30 31\n",
      "                          30\n"
     ]
    }
   ],
   "source": [
    "import calendar    \n",
    "#printing the calendar of the year 2019    \n",
    "s = calendar.prcal(2020)  "
   ]
  },
  {
   "cell_type": "code",
   "execution_count": 14,
   "metadata": {},
   "outputs": [],
   "source": [
    "import tkinter as tk\n",
    "\n",
    "def submit_form():\n",
    "    # This function is called when the Submit button is pressed\n",
    "    # You can add your logic to process the form data here\n",
    "    print(\"Form submitted!\")\n",
    "\n",
    "# Create the main window\n",
    "root = tk.Tk()\n",
    "root.title(\"Simple Form\")\n",
    "\n",
    "# Create and place form elements\n",
    "label_name = tk.Label(root, text=\"Name:\")\n",
    "label_name.pack()\n",
    "\n",
    "entry_name = tk.Entry(root)\n",
    "entry_name.pack()\n",
    "\n",
    "label_email = tk.Label(root, text=\"Email:\")\n",
    "label_email.pack()\n",
    "\n",
    "entry_email = tk.Entry(root)\n",
    "entry_email.pack()\n",
    "\n",
    "# Button to submit the form\n",
    "submit_button = tk.Button(root, text=\"Submit\", command=submit_form)\n",
    "submit_button.pack()\n",
    "\n",
    "# Start the Tkinter event loop\n",
    "root.mainloop()\n"
   ]
  },
  {
   "cell_type": "code",
   "execution_count": null,
   "metadata": {},
   "outputs": [],
   "source": [
    "import tkinter as tk\n",
    "\n",
    "def submit_form():\n",
    "    # Retrieve values from the entry widgets\n",
    "    name = name_entry.get()\n",
    "    age = age_entry.get()\n",
    "\n",
    "    # Display the submitted information\n",
    "    result_label.config(text=f\"Name: {name}, Age: {age}\")\n",
    "\n",
    "# Create the main window\n",
    "root = tk.Tk()\n",
    "root.title(\"Simple Form\")\n",
    "\n",
    "# Create and place widgets (labels, entry fields, and a button)\n",
    "tk.Label(root, text=\"Name:\").grid(row=0, column=0, padx=10, pady=10)\n",
    "name_entry = tk.Entry(root)\n",
    "name_entry.grid(row=0, column=1, padx=10, pady=10)\n",
    "\n",
    "tk.Label(root, text=\"Age:\").grid(row=1, column=0, padx=10, pady=10)\n",
    "age_entry = tk.Entry(root)\n",
    "age_entry.grid(row=1, column=1, padx=10, pady=10)\n",
    "\n",
    "submit_button = tk.Button(root, text=\"Submit\", command=submit_form)\n",
    "submit_button.grid(row=2, column=0, columnspan=2, pady=10)\n",
    "\n",
    "result_label = tk.Label(root, text=\"\")\n",
    "result_label.grid(row=3, column=0, columnspan=2, pady=10)\n",
    "\n",
    "# Start the main event loop\n",
    "root.mainloop()\n"
   ]
  },
  {
   "cell_type": "markdown",
   "metadata": {},
   "source": [
    "GCD of two number in python"
   ]
  },
  {
   "cell_type": "code",
   "execution_count": 1,
   "metadata": {},
   "outputs": [
    {
     "name": "stdout",
     "output_type": "stream",
     "text": [
      " GCD of two number 0 and 0 is  0\n",
      " GCD of two number 0 and 48 is  48\n",
      " GCD of two number 60 and 48 is  12\n",
      " GCD of two number 48 and -12 is  12\n",
      " GCD of two number -24 and -18 is  6\n",
      " GCD of two number -60 and 48 is  12\n"
     ]
    }
   ],
   "source": [
    "# create a program to print the gcd of two number in python using the math.gcd() function.  \n",
    "import math  \n",
    "print(\" GCD of two number 0 and 0 is \", math.gcd(0, 0)) #math.gcd(a, b), a and b are the two integer number  \n",
    "print(\" GCD of two number 0 and 48 is \", math.gcd(0, 48))  \n",
    "a = 60 # assign the number to variable a  \n",
    "b = 48 # assign the number to variable b  \n",
    "print(\" GCD of two number 60 and 48 is \", math.gcd(a, b)) # pass the variable a and b to math.gcd() function.  \n",
    "print(\" GCD of two number 48 and -12 is \", math.gcd(48, -12)) # pass the integer number  \n",
    "print(\" GCD of two number -24 and -18 is \", math.gcd(-24, -18))  \n",
    "print(\" GCD of two number -60 and 48 is \", math.gcd(-60, 48))  "
   ]
  },
  {
   "cell_type": "code",
   "execution_count": 2,
   "metadata": {},
   "outputs": [
    {
     "name": "stdout",
     "output_type": "stream",
     "text": [
      "GCD of two number is: \n",
      "1\n"
     ]
    }
   ],
   "source": [
    "# write a program to understand the GCD of two number in python using the recursion.  \n",
    "def gcd_fun (x, y):  \n",
    "    if (y == 0): # it divide every number  \n",
    "        return x  # return x  \n",
    "    else:  \n",
    "        return gcd_fun (y, x % y)  \n",
    "x =int (input (\"Enter the first number: \")) # take first no.   \n",
    "y =int (input (\"Enter the second number: \")) # take second no.   \n",
    "num = gcd_fun(x, y) # call the gcd_fun() to find the result  \n",
    "print(\"GCD of two number is: \")  \n",
    "print(num) # call num  "
   ]
  },
  {
   "cell_type": "code",
   "execution_count": 3,
   "metadata": {},
   "outputs": [
    {
     "name": "stdout",
     "output_type": "stream",
     "text": [
      "GCD of two number is: \n",
      "6\n"
     ]
    }
   ],
   "source": [
    "def GCD_Loop( a, b):  \n",
    "    if a > b:  # define the if condition  \n",
    "        temp = b  \n",
    "    else:  \n",
    "        temp = a  \n",
    "    for i in range(1, temp + 1):  \n",
    "        if (( a % i == 0) and (b % i == 0 )):  \n",
    "            gcd = i  \n",
    "    return gcd  \n",
    "x = int(input (\" Enter the first number: \") ) # take first no.   \n",
    "y =int (input (\" Enter the second number: \")) # take second no.   \n",
    "num = GCD_Loop(x, y) # call the gcd_fun() to find the result  \n",
    "print(\"GCD of two number is: \")  \n",
    "print(num) # call num  \n"
   ]
  },
  {
   "cell_type": "code",
   "execution_count": 4,
   "metadata": {},
   "outputs": [
    {
     "name": "stdout",
     "output_type": "stream",
     "text": [
      "  The HCF of two number a and b is \n",
      "0\n"
     ]
    }
   ],
   "source": [
    "# Create a program to find the GCD of two number in python using the Euclid's Algorithm.  \n",
    "def find_hcf(a,b):  \n",
    "    while(b):  \n",
    "        a, a = b, a % b  \n",
    "        return a  \n",
    "a = int(input (\" Enter the first number: \") ) # take first no.   \n",
    "b = int(input (\" Enter the second number: \")) # take second no.   \n",
    "num = find_hcf(a, b) # call the find_hcf() to get the result  \n",
    "print(\"  The HCF of two number a and b is \")  \n",
    "print(num) # call num "
   ]
  },
  {
   "cell_type": "code",
   "execution_count": 5,
   "metadata": {},
   "outputs": [
    {
     "name": "stdout",
     "output_type": "stream",
     "text": [
      "The value is: 25.738\n",
      "The value is: 25.738\n",
      "The value is: 25.73796\n"
     ]
    }
   ],
   "source": [
    "num = 25.73796211  \n",
    "   \n",
    "# using \"%\" operator  \n",
    "print ('The value is: %.3f'%num)   \n",
    "   \n",
    "# using format() function  \n",
    "print (\"The value is: {0:.3f}\".format(num))   \n",
    "   \n",
    "# using round() function  \n",
    "print (\"The value is:\",round(num,5))  "
   ]
  },
  {
   "cell_type": "code",
   "execution_count": null,
   "metadata": {},
   "outputs": [],
   "source": [
    "import os  \n",
    "# First, import folium package  \n",
    "import folium  \n",
    "from geopy.geocoders import Nominatim as NT  \n",
    "# Initialize Nominatim API  \n",
    "geo_locator = NT(user_agent = \"geoapiExercises\")  \n",
    "# write the place  \n",
    "place_1 = \"Yemen\"  \n",
    "  \n",
    "location_1 = geo_locator.geocode(place_1)  \n",
    "# now, it will search for the location by using the latitude and longitude, with zoom_start = 15  \n",
    "user_map1 = folium.Map(location = [location_1.longitude, location_1.latitude],  \n",
    "                                        zoom_start = 15 )  \n",
    "# At last, open the base map  \n",
    "user_map1  "
   ]
  },
  {
   "cell_type": "code",
   "execution_count": null,
   "metadata": {},
   "outputs": [],
   "source": [
    "import folium  \n",
    "   \n",
    "from geopy.geocoders import Nominatim as NT  \n",
    "  \n",
    "geo_locator = NT(user_agent = \"geoapiExercises\")  \n",
    "  \n",
    "place_1 = \"Yemen\"  \n",
    "  \n",
    "location_1 = geo_locator.geocode(place_1)  \n",
    "  \n",
    "user_map1 = folium.Map(location = [location_1.longitude, location_1.latitude],  \n",
    "                                        zoom_start = 15 )  \n",
    "   \n",
    "# CircleMarker with radius  \n",
    "folium.CircleMarker(location = [location_1.longitude, location_1.latitude],  \n",
    "                    radius = 45, popup = ' YEMEN ').add_to(user_map1)  \n",
    "   \n",
    "# Now, open the Map with circular Mark  \n",
    "user_map1  "
   ]
  },
  {
   "cell_type": "code",
   "execution_count": null,
   "metadata": {},
   "outputs": [],
   "source": [
    "# First, import folium package  \n",
    "import folium  \n",
    "import os   \n",
    "from geopy.geocoders import Nominatim as NT  \n",
    "  \n",
    "geo_locator = NT(user_agent = \"geoapiExercises\")  \n",
    "  \n",
    "place_1 = \"Aden\"  \n",
    "place_2 = \"Yemen\"  \n",
    "location_1 = geo_locator.geocode(place_1)  \n",
    "location_2 = geo_locator.geocode(place_2)  \n",
    "user_map1 = folium.Map(location = [location_1.longitude, location_1.latitude],  \n",
    "                                        zoom_start = 6)  \n",
    "   \n",
    "folium.Marker([location_1.longitude, location_1.latitude],  \n",
    "               popup = ['Aden']).add_to(user_map1)  \n",
    "   \n",
    "folium.Marker([location_2.longitude, location_2.latitude],  \n",
    "              popup = 'Yemen').add_to(user_map1)  \n",
    "   \n",
    "# Now, we will add the line on the map by using Polyline method .  \n",
    "# it will connect both coordinates by the line  \n",
    "   \n",
    "folium.PolyLine(locations = [[location_1.longitude, location_1.latitude], [location_2.longitude, location_2.latitude]],  \n",
    "                line_opacity = 0.5).add_to(user_map1)  \n",
    "# now, open the map  \n",
    "user_map1  "
   ]
  }
 ],
 "metadata": {
  "kernelspec": {
   "display_name": "Python 3",
   "language": "python",
   "name": "python3"
  },
  "language_info": {
   "codemirror_mode": {
    "name": "ipython",
    "version": 3
   },
   "file_extension": ".py",
   "mimetype": "text/x-python",
   "name": "python",
   "nbconvert_exporter": "python",
   "pygments_lexer": "ipython3",
   "version": "3.11.6"
  }
 },
 "nbformat": 4,
 "nbformat_minor": 2
}
