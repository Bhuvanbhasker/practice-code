{
 "cells": [
  {
   "cell_type": "code",
   "execution_count": 1,
   "metadata": {},
   "outputs": [
    {
     "name": "stdout",
     "output_type": "stream",
     "text": [
      "1699724470.245706\n"
     ]
    }
   ],
   "source": [
    "import time;  \n",
    "#prints the number of ticks spent since 12 AM, 1st January 1970  \n",
    "print(time.time())  "
   ]
  },
  {
   "cell_type": "code",
   "execution_count": 2,
   "metadata": {},
   "outputs": [
    {
     "name": "stdout",
     "output_type": "stream",
     "text": [
      "time.struct_time(tm_year=2023, tm_mon=11, tm_mday=11, tm_hour=23, tm_min=11, tm_sec=41, tm_wday=5, tm_yday=315, tm_isdst=0)\n"
     ]
    }
   ],
   "source": [
    "import time;    \n",
    "    \n",
    "#returns a time tuple     \n",
    "    \n",
    "print(time.localtime(time.time())) "
   ]
  },
  {
   "cell_type": "code",
   "execution_count": 3,
   "metadata": {},
   "outputs": [
    {
     "name": "stdout",
     "output_type": "stream",
     "text": [
      "Sat Nov 11 23:12:14 2023\n"
     ]
    }
   ],
   "source": [
    "import time    \n",
    "  #returns the formatted time      \n",
    "  \n",
    "print(time.asctime(time.localtime(time.time())))  "
   ]
  },
  {
   "cell_type": "code",
   "execution_count": 5,
   "metadata": {},
   "outputs": [
    {
     "name": "stdout",
     "output_type": "stream",
     "text": [
      "0\n",
      "1\n",
      "2\n",
      "3\n",
      "4\n"
     ]
    }
   ],
   "source": [
    "import time  \n",
    "for i in range(0,5):  \n",
    "    print(i)  \n",
    "    #Each element will be printed after 1 second  \n",
    "    time.sleep(1)  "
   ]
  },
  {
   "cell_type": "code",
   "execution_count": 6,
   "metadata": {},
   "outputs": [
    {
     "name": "stdout",
     "output_type": "stream",
     "text": [
      "2023-11-11 23:15:21.614992\n"
     ]
    }
   ],
   "source": [
    "import datetime  \n",
    "#returns the current datetime object     \n",
    "print(datetime.datetime.now())  "
   ]
  },
  {
   "cell_type": "code",
   "execution_count": 9,
   "metadata": {},
   "outputs": [
    {
     "name": "stdout",
     "output_type": "stream",
     "text": [
      "2020-04-04 00:00:00\n"
     ]
    }
   ],
   "source": [
    "import datetime\n",
    "\n",
    "# Corrected line without leading zeros\n",
    "print(datetime.datetime(2020, 4, 4))\n"
   ]
  },
  {
   "cell_type": "code",
   "execution_count": 10,
   "metadata": {},
   "outputs": [
    {
     "name": "stdout",
     "output_type": "stream",
     "text": [
      "2020-04-04 01:26:40\n"
     ]
    }
   ],
   "source": [
    "import datetime  \n",
    "    \n",
    "#returns the datetime object for the specified time      \n",
    "    \n",
    "print(datetime.datetime(2020,4,4,1,26,40))    "
   ]
  },
  {
   "cell_type": "code",
   "execution_count": 11,
   "metadata": {},
   "outputs": [
    {
     "name": "stdout",
     "output_type": "stream",
     "text": [
      "fun hours\n"
     ]
    }
   ],
   "source": [
    "from datetime import datetime as dt    \n",
    "#Compares the time. If the time is in between 8AM and 4PM, then it prints working hours otherwise it prints fun hours    \n",
    "if dt(dt.now().year,dt.now().month,dt.now().day,8)<dt.now()<dt(dt.now().year,dt.now().month,dt.now().day,16):    \n",
    "    print(\"Working hours....\")    \n",
    "else:    \n",
    "    print(\"fun hours\")   "
   ]
  },
  {
   "cell_type": "code",
   "execution_count": 12,
   "metadata": {},
   "outputs": [
    {
     "name": "stdout",
     "output_type": "stream",
     "text": [
      "     March 2020\n",
      "Mo Tu We Th Fr Sa Su\n",
      "                   1\n",
      " 2  3  4  5  6  7  8\n",
      " 9 10 11 12 13 14 15\n",
      "16 17 18 19 20 21 22\n",
      "23 24 25 26 27 28 29\n",
      "30 31\n",
      "\n"
     ]
    }
   ],
   "source": [
    "import calendar;    \n",
    "cal = calendar.month(2020,3)    \n",
    "#printing the calendar of December 2018    \n",
    "print(cal)    "
   ]
  },
  {
   "cell_type": "code",
   "execution_count": 13,
   "metadata": {},
   "outputs": [
    {
     "name": "stdout",
     "output_type": "stream",
     "text": [
      "                                  2020\n",
      "\n",
      "      January                   February                   March\n",
      "Mo Tu We Th Fr Sa Su      Mo Tu We Th Fr Sa Su      Mo Tu We Th Fr Sa Su\n",
      "       1  2  3  4  5                      1  2                         1\n",
      " 6  7  8  9 10 11 12       3  4  5  6  7  8  9       2  3  4  5  6  7  8\n",
      "13 14 15 16 17 18 19      10 11 12 13 14 15 16       9 10 11 12 13 14 15\n",
      "20 21 22 23 24 25 26      17 18 19 20 21 22 23      16 17 18 19 20 21 22\n",
      "27 28 29 30 31            24 25 26 27 28 29         23 24 25 26 27 28 29\n",
      "                                                    30 31\n",
      "\n",
      "       April                      May                       June\n",
      "Mo Tu We Th Fr Sa Su      Mo Tu We Th Fr Sa Su      Mo Tu We Th Fr Sa Su\n",
      "       1  2  3  4  5                   1  2  3       1  2  3  4  5  6  7\n",
      " 6  7  8  9 10 11 12       4  5  6  7  8  9 10       8  9 10 11 12 13 14\n",
      "13 14 15 16 17 18 19      11 12 13 14 15 16 17      15 16 17 18 19 20 21\n",
      "20 21 22 23 24 25 26      18 19 20 21 22 23 24      22 23 24 25 26 27 28\n",
      "27 28 29 30               25 26 27 28 29 30 31      29 30\n",
      "\n",
      "        July                     August                  September\n",
      "Mo Tu We Th Fr Sa Su      Mo Tu We Th Fr Sa Su      Mo Tu We Th Fr Sa Su\n",
      "       1  2  3  4  5                      1  2          1  2  3  4  5  6\n",
      " 6  7  8  9 10 11 12       3  4  5  6  7  8  9       7  8  9 10 11 12 13\n",
      "13 14 15 16 17 18 19      10 11 12 13 14 15 16      14 15 16 17 18 19 20\n",
      "20 21 22 23 24 25 26      17 18 19 20 21 22 23      21 22 23 24 25 26 27\n",
      "27 28 29 30 31            24 25 26 27 28 29 30      28 29 30\n",
      "                          31\n",
      "\n",
      "      October                   November                  December\n",
      "Mo Tu We Th Fr Sa Su      Mo Tu We Th Fr Sa Su      Mo Tu We Th Fr Sa Su\n",
      "          1  2  3  4                         1          1  2  3  4  5  6\n",
      " 5  6  7  8  9 10 11       2  3  4  5  6  7  8       7  8  9 10 11 12 13\n",
      "12 13 14 15 16 17 18       9 10 11 12 13 14 15      14 15 16 17 18 19 20\n",
      "19 20 21 22 23 24 25      16 17 18 19 20 21 22      21 22 23 24 25 26 27\n",
      "26 27 28 29 30 31         23 24 25 26 27 28 29      28 29 30 31\n",
      "                          30\n"
     ]
    }
   ],
   "source": [
    "import calendar    \n",
    "#printing the calendar of the year 2019    \n",
    "s = calendar.prcal(2020)  "
   ]
  },
  {
   "cell_type": "code",
   "execution_count": 14,
   "metadata": {},
   "outputs": [],
   "source": [
    "import tkinter as tk\n",
    "\n",
    "def submit_form():\n",
    "    # This function is called when the Submit button is pressed\n",
    "    # You can add your logic to process the form data here\n",
    "    print(\"Form submitted!\")\n",
    "\n",
    "# Create the main window\n",
    "root = tk.Tk()\n",
    "root.title(\"Simple Form\")\n",
    "\n",
    "# Create and place form elements\n",
    "label_name = tk.Label(root, text=\"Name:\")\n",
    "label_name.pack()\n",
    "\n",
    "entry_name = tk.Entry(root)\n",
    "entry_name.pack()\n",
    "\n",
    "label_email = tk.Label(root, text=\"Email:\")\n",
    "label_email.pack()\n",
    "\n",
    "entry_email = tk.Entry(root)\n",
    "entry_email.pack()\n",
    "\n",
    "# Button to submit the form\n",
    "submit_button = tk.Button(root, text=\"Submit\", command=submit_form)\n",
    "submit_button.pack()\n",
    "\n",
    "# Start the Tkinter event loop\n",
    "root.mainloop()\n"
   ]
  },
  {
   "cell_type": "code",
   "execution_count": null,
   "metadata": {},
   "outputs": [],
   "source": [
    "import tkinter as tk\n",
    "\n",
    "def submit_form():\n",
    "    # Retrieve values from the entry widgets\n",
    "    name = name_entry.get()\n",
    "    age = age_entry.get()\n",
    "\n",
    "    # Display the submitted information\n",
    "    result_label.config(text=f\"Name: {name}, Age: {age}\")\n",
    "\n",
    "# Create the main window\n",
    "root = tk.Tk()\n",
    "root.title(\"Simple Form\")\n",
    "\n",
    "# Create and place widgets (labels, entry fields, and a button)\n",
    "tk.Label(root, text=\"Name:\").grid(row=0, column=0, padx=10, pady=10)\n",
    "name_entry = tk.Entry(root)\n",
    "name_entry.grid(row=0, column=1, padx=10, pady=10)\n",
    "\n",
    "tk.Label(root, text=\"Age:\").grid(row=1, column=0, padx=10, pady=10)\n",
    "age_entry = tk.Entry(root)\n",
    "age_entry.grid(row=1, column=1, padx=10, pady=10)\n",
    "\n",
    "submit_button = tk.Button(root, text=\"Submit\", command=submit_form)\n",
    "submit_button.grid(row=2, column=0, columnspan=2, pady=10)\n",
    "\n",
    "result_label = tk.Label(root, text=\"\")\n",
    "result_label.grid(row=3, column=0, columnspan=2, pady=10)\n",
    "\n",
    "# Start the main event loop\n",
    "root.mainloop()\n"
   ]
  },
  {
   "cell_type": "code",
   "execution_count": null,
   "metadata": {},
   "outputs": [],
   "source": []
  }
 ],
 "metadata": {
  "kernelspec": {
   "display_name": "Python 3",
   "language": "python",
   "name": "python3"
  },
  "language_info": {
   "codemirror_mode": {
    "name": "ipython",
    "version": 3
   },
   "file_extension": ".py",
   "mimetype": "text/x-python",
   "name": "python",
   "nbconvert_exporter": "python",
   "pygments_lexer": "ipython3",
   "version": "3.11.6"
  }
 },
 "nbformat": 4,
 "nbformat_minor": 2
}
