{
 "cells": [
  {
   "cell_type": "code",
   "execution_count": null,
   "metadata": {},
   "outputs": [],
   "source": [
    "# importing the qrcode library  \n",
    "import qrcode  \n",
    "# generating a QR code using the make() function  \n",
    "qr_img = qrcode.make(\"Welcome to SHIVBANDHI AUTOMATION\")  \n",
    "# saving the image file  \n",
    "qr_img.save(\"qr-img.jpg\")  "
   ]
  },
  {
   "cell_type": "code",
   "execution_count": 6,
   "metadata": {},
   "outputs": [],
   "source": [
    "import qrcode\n",
    "from PIL import Image\n",
    "\n",
    "# Generating a QR code\n",
    "qr_img = qrcode.make(\"Welcome to SHIVBANDHI AUTOMATION\")\n",
    "\n",
    "# Saving the QR code image\n",
    "qr_img.save(\"qr-img.png\")\n",
    "\n",
    "# Open the QR code image\n",
    "qr_image = Image.open(\"qr-img.png\")\n",
    "\n",
    "# Open another image\n",
    "background_image = Image.open(\"D:\\\\practice code\\\\bhuvan\\\\WhatsApp Image 2023-11-12 at 21.36.16_7eb8b585.jpg\")\n",
    "\n",
    "\n",
    "# Resize the QR code to fit on the background image\n",
    "qr_image = qr_image.resize((100, 100))  # Adjust the size as needed\n",
    "\n",
    "# Paste the QR code on the background image\n",
    "background_image.paste(qr_image, (10, 10))  # Adjust the position as needed\n",
    "\n",
    "# Save the final image\n",
    "background_image.save(\"final-image.jpg\")\n"
   ]
  },
  {
   "cell_type": "code",
   "execution_count": null,
   "metadata": {},
   "outputs": [],
   "source": [
    "import qrcode\n",
    "from PIL import Image, ImageDraw, ImageFont\n",
    "\n",
    "# Generating a QR code\n",
    "qr_img = qrcode.make(\"Welcome to SHIVBANDHI AUTOMATION\")\n",
    "\n",
    "# Saving the QR code image\n",
    "qr_img.save(\"qr-img.png\")\n",
    "\n",
    "# Open the QR code image\n",
    "qr_image = Image.open(\"qr-img.png\")\n",
    "\n",
    "# Open another image (background)\n",
    "background_image = Image.open(\"D:\\\\practice code\\\\bhuvan\\\\WhatsApp Image 2023-11-12 at 21.36.16_7eb8b585.jpg\")\n",
    "\n",
    "# Resize the QR code to fit on the background image\n",
    "qr_image = qr_image.resize((100, 100))  # Adjust the size as needed\n",
    "\n",
    "# Paste the QR code on the background image\n",
    "background_image.paste(qr_image, (10, 10))  # Adjust the position as needed\n",
    "\n",
    "# Add text to the image\n",
    "draw = ImageDraw.Draw(background_image)\n",
    "font = ImageFont.load_default()  # You can customize the font if needed\n",
    "text = \"Scan the QR code to explore\"\n",
    "text_position = (50, 150)  # Adjust the position as needed\n",
    "text_color = (255, 255, 255)  # RGB color for text\n",
    "\n",
    "draw.text(text_position, text, font=font, fill=text_color)\n",
    "\n",
    "# Save the final image\n",
    "background_image.save(\"final-image.jpg\")\n"
   ]
  }
 ],
 "metadata": {
  "kernelspec": {
   "display_name": "Python 3",
   "language": "python",
   "name": "python3"
  },
  "language_info": {
   "codemirror_mode": {
    "name": "ipython",
    "version": 3
   },
   "file_extension": ".py",
   "mimetype": "text/x-python",
   "name": "python",
   "nbconvert_exporter": "python",
   "pygments_lexer": "ipython3",
   "version": "3.11.6"
  }
 },
 "nbformat": 4,
 "nbformat_minor": 2
}
