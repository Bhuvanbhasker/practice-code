{
 "cells": [
  {
   "cell_type": "markdown",
   "metadata": {},
   "source": [
    "function"
   ]
  },
  {
   "cell_type": "code",
   "execution_count": 3,
   "metadata": {},
   "outputs": [
    {
     "name": "stdout",
     "output_type": "stream",
     "text": [
      "hello world\n"
     ]
    }
   ],
   "source": [
    "def fun():\n",
    "    print(\"hello world\")\n",
    "fun()\n",
    "\n"
   ]
  },
  {
   "cell_type": "markdown",
   "metadata": {},
   "source": [
    "argument and parameters"
   ]
  },
  {
   "cell_type": "code",
   "execution_count": 4,
   "metadata": {},
   "outputs": [
    {
     "ename": "NameError",
     "evalue": "name 'num3' is not defined",
     "output_type": "error",
     "traceback": [
      "\u001b[1;31m---------------------------------------------------------------------------\u001b[0m",
      "\u001b[1;31mNameError\u001b[0m                                 Traceback (most recent call last)",
      "\u001b[1;32md:\\practice code\\bhuvan\\python function.ipynb Cell 4\u001b[0m line \u001b[0;36m6\n\u001b[0;32m      <a href='vscode-notebook-cell:/d%3A/practice%20code/bhuvan/python%20function.ipynb#W6sZmlsZQ%3D%3D?line=2'>3</a>\u001b[0m     \u001b[39mreturn\u001b[39;00m num3\n\u001b[0;32m      <a href='vscode-notebook-cell:/d%3A/practice%20code/bhuvan/python%20function.ipynb#W6sZmlsZQ%3D%3D?line=4'>5</a>\u001b[0m num1, num2 \u001b[39m=\u001b[39m \u001b[39m5\u001b[39m, \u001b[39m6\u001b[39m\n\u001b[1;32m----> <a href='vscode-notebook-cell:/d%3A/practice%20code/bhuvan/python%20function.ipynb#W6sZmlsZQ%3D%3D?line=5'>6</a>\u001b[0m ans \u001b[39m=\u001b[39m num3(num1, num2)\n\u001b[0;32m      <a href='vscode-notebook-cell:/d%3A/practice%20code/bhuvan/python%20function.ipynb#W6sZmlsZQ%3D%3D?line=6'>7</a>\u001b[0m \u001b[39mprint\u001b[39m(ans)\n",
      "\u001b[1;31mNameError\u001b[0m: name 'num3' is not defined"
     ]
    }
   ],
   "source": [
    "def sum(num1: int, num2: int):\n",
    "    num3 = num1 + num2\n",
    "    return num3\n",
    "\n",
    "num1, num2 = 5, 6\n",
    "ans = add(num1, num2)\n",
    "print(ans)"
   ]
  }
 ],
 "metadata": {
  "kernelspec": {
   "display_name": "Python 3",
   "language": "python",
   "name": "python3"
  },
  "language_info": {
   "codemirror_mode": {
    "name": "ipython",
    "version": 3
   },
   "file_extension": ".py",
   "mimetype": "text/x-python",
   "name": "python",
   "nbconvert_exporter": "python",
   "pygments_lexer": "ipython3",
   "version": "3.11.6"
  }
 },
 "nbformat": 4,
 "nbformat_minor": 2
}
