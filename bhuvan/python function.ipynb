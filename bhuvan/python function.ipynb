{
 "cells": [
  {
   "cell_type": "markdown",
   "metadata": {},
   "source": [
    "function"
   ]
  },
  {
   "cell_type": "code",
   "execution_count": 3,
   "metadata": {},
   "outputs": [
    {
     "name": "stdout",
     "output_type": "stream",
     "text": [
      "hello world\n"
     ]
    }
   ],
   "source": [
    "def fun():\n",
    "    print(\"hello world\")\n",
    "fun()\n",
    "\n"
   ]
  },
  {
   "cell_type": "markdown",
   "metadata": {},
   "source": [
    "argument and parameters"
   ]
  },
  {
   "cell_type": "code",
   "execution_count": 5,
   "metadata": {},
   "outputs": [
    {
     "name": "stdout",
     "output_type": "stream",
     "text": [
      "11\n"
     ]
    }
   ],
   "source": [
    "def sum(num1: int, num2: int):\n",
    "    num3 = num1 + num2\n",
    "    return num3\n",
    "\n",
    "num1, num2 = 5, 6\n",
    "ans = sum(num1, num2)\n",
    "print(ans)"
   ]
  },
  {
   "cell_type": "code",
   "execution_count": 6,
   "metadata": {},
   "outputs": [
    {
     "name": "stdout",
     "output_type": "stream",
     "text": [
      "False True\n"
     ]
    }
   ],
   "source": [
    "# some more functions\n",
    "def is_prime(n):\n",
    "\tif n in [2, 3]:\n",
    "\t\treturn True\n",
    "\tif (n == 1) or (n % 2 == 0):\n",
    "\t\treturn False\n",
    "\tr = 3\n",
    "\twhile r * r <= n:\n",
    "\t\tif n % r == 0:\n",
    "\t\t\treturn False\n",
    "\t\tr += 2\n",
    "\treturn True\n",
    "print(is_prime(78), is_prime(79))\n"
   ]
  },
  {
   "cell_type": "markdown",
   "metadata": {},
   "source": [
    "Python Function Arguments"
   ]
  },
  {
   "cell_type": "code",
   "execution_count": 7,
   "metadata": {},
   "outputs": [
    {
     "name": "stdout",
     "output_type": "stream",
     "text": [
      "even\n",
      "odd\n"
     ]
    }
   ],
   "source": [
    "def evenodd(x):\n",
    "    if (x%2==0):\n",
    "        print(\"even\")\n",
    "    else:\n",
    "        print(\"odd\")\n",
    "        \n",
    "        \n",
    "evenodd(2)\n",
    "evenodd(3)\n",
    "        "
   ]
  },
  {
   "cell_type": "markdown",
   "metadata": {},
   "source": [
    "Types of function aaaargument\n",
    "* Default argument\n",
    "* Keyword arguments (named arguments)\n",
    "* Positional arguments\n",
    "* Arbitrary arguments (variable-length arguments *args and **kwargs)"
   ]
  },
  {
   "cell_type": "markdown",
   "metadata": {},
   "source": [
    "* Default argument"
   ]
  },
  {
   "cell_type": "code",
   "execution_count": 8,
   "metadata": {},
   "outputs": [
    {
     "name": "stdout",
     "output_type": "stream",
     "text": [
      "x:  10\n",
      "y:  50\n"
     ]
    }
   ],
   "source": [
    "# Python program to demonstrate\n",
    "# default arguments\n",
    "def myFun(x, y=50):\n",
    "\tprint(\"x: \", x)\n",
    "\tprint(\"y: \", y)\n",
    "\n",
    "\n",
    "# Driver code (We call myFun() with only\n",
    "# argument)\n",
    "myFun(10)\n"
   ]
  },
  {
   "cell_type": "markdown",
   "metadata": {},
   "source": [
    "* Keyword Arguments"
   ]
  },
  {
   "cell_type": "code",
   "execution_count": 11,
   "metadata": {},
   "outputs": [
    {
     "name": "stdout",
     "output_type": "stream",
     "text": [
      "bhuvan singh\n",
      "bhuvan singh\n"
     ]
    }
   ],
   "source": [
    "def name(firstname, lastname):\n",
    "    print(firstname, lastname)\n",
    "    \n",
    "name(firstname='bhuvan', lastname='singh')\n",
    "name(lastname='singh', firstname='bhuvan')"
   ]
  },
  {
   "cell_type": "markdown",
   "metadata": {},
   "source": [
    "* Positional Arguments"
   ]
  },
  {
   "cell_type": "code",
   "execution_count": 12,
   "metadata": {},
   "outputs": [
    {
     "name": "stdout",
     "output_type": "stream",
     "text": [
      "Case-1:\n",
      "Hi, I am Suraj\n",
      "My age is  27\n",
      "\n",
      "Case-2:\n",
      "Hi, I am 27\n",
      "My age is  Suraj\n"
     ]
    }
   ],
   "source": [
    "def nameAge(name, age):\n",
    "\tprint(\"Hi, I am\", name)\n",
    "\tprint(\"My age is \", age)\n",
    "\n",
    "\n",
    "# You will get correct output because \n",
    "# argument is given in order\n",
    "print(\"Case-1:\")\n",
    "nameAge(\"Suraj\", 27)\n",
    "# You will get incorrect output because\n",
    "# argument is not in order\n",
    "print(\"\\nCase-2:\")\n",
    "nameAge(27, \"Suraj\")\n"
   ]
  },
  {
   "cell_type": "markdown",
   "metadata": {},
   "source": [
    "* args in Python (Non-Keyword Arguments)\n",
    "* kwargs in Python (Keyword Arguments)"
   ]
  },
  {
   "cell_type": "code",
   "execution_count": 1,
   "metadata": {},
   "outputs": [
    {
     "name": "stdout",
     "output_type": "stream",
     "text": [
      "Hello\n",
      "Welcome\n",
      "to\n",
      "GeeksforGeeks\n"
     ]
    }
   ],
   "source": [
    "# Python program to illustrate\n",
    "# *args for variable number of arguments\n",
    "def myFun(*argv):\n",
    "\tfor arg in argv:\n",
    "\t\tprint(arg)\n",
    "\n",
    "\n",
    "myFun('Hello', 'Welcome', 'to', 'GeeksforGeeks')\n"
   ]
  },
  {
   "cell_type": "code",
   "execution_count": 2,
   "metadata": {},
   "outputs": [
    {
     "name": "stdout",
     "output_type": "stream",
     "text": [
      "first == Geeks\n",
      "mid == for\n",
      "last == Geeks\n"
     ]
    }
   ],
   "source": [
    "# Python program to illustrate\n",
    "# *kwargs for variable number of keyword arguments\n",
    "\n",
    "\n",
    "def myFun(**kwargs):\n",
    "\tfor key, value in kwargs.items():\n",
    "\t\tprint(\"%s == %s\" % (key, value))\n",
    "\n",
    "\n",
    "# Driver code\n",
    "myFun(first='Geeks', mid='for', last='Geeks')\n"
   ]
  },
  {
   "cell_type": "markdown",
   "metadata": {},
   "source": [
    "Generators in Python"
   ]
  },
  {
   "cell_type": "code",
   "execution_count": 3,
   "metadata": {},
   "outputs": [
    {
     "name": "stdout",
     "output_type": "stream",
     "text": [
      "1\n",
      "2\n",
      "3\n"
     ]
    }
   ],
   "source": [
    "# A generator function that yields 1 for first time, \n",
    "# 2 second time and 3 third time \n",
    "def simpleGeneratorFun(): \n",
    "\tyield 1\t\t\t\n",
    "\tyield 2\t\t\t\n",
    "\tyield 3\t\t\t\n",
    "\n",
    "# Driver code to check above generator function \n",
    "for value in simpleGeneratorFun(): \n",
    "\tprint(value)\n"
   ]
  },
  {
   "cell_type": "code",
   "execution_count": 4,
   "metadata": {},
   "outputs": [
    {
     "name": "stdout",
     "output_type": "stream",
     "text": [
      "0\n",
      "1\n",
      "1\n",
      "2\n",
      "3\n",
      "\n",
      "Using for in loop\n",
      "0\n",
      "1\n",
      "1\n",
      "2\n",
      "3\n"
     ]
    }
   ],
   "source": [
    "# A simple generator for Fibonacci Numbers \n",
    "def fib(limit): \n",
    "\t\n",
    "\t# Initialize first two Fibonacci Numbers \n",
    "\ta, b = 0, 1\n",
    "\n",
    "\t# One by one yield next Fibonacci Number \n",
    "\twhile a < limit: \n",
    "\t\tyield a \n",
    "\t\ta, b = b, a + b \n",
    "\n",
    "# Create a generator object \n",
    "x = fib(5) \n",
    "\n",
    "# Iterating over the generator object using next \n",
    "# In Python 3, __next__() \n",
    "print(next(x)) \n",
    "print(next(x)) \n",
    "print(next(x)) \n",
    "print(next(x)) \n",
    "print(next(x)) \n",
    "\n",
    "# Iterating over the generator object using for \n",
    "# in loop. \n",
    "print(\"\\nUsing for in loop\") \n",
    "for i in fib(5): \n",
    "\tprint(i)\n"
   ]
  },
  {
   "cell_type": "code",
   "execution_count": null,
   "metadata": {},
   "outputs": [],
   "source": []
  },
  {
   "cell_type": "code",
   "execution_count": 5,
   "metadata": {},
   "outputs": [
    {
     "name": "stdout",
     "output_type": "stream",
     "text": [
      "0\n",
      "10\n",
      "20\n"
     ]
    }
   ],
   "source": [
    "# generator expression \n",
    "generator_exp = (i * 5 for i in range(5) if i%2==0) \n",
    "\n",
    "for i in generator_exp: \n",
    "\tprint(i)\n"
   ]
  },
  {
   "cell_type": "code",
   "execution_count": 6,
   "metadata": {},
   "outputs": [
    {
     "name": "stdout",
     "output_type": "stream",
     "text": [
      "Second element = 2\n",
      "An error occurred\n"
     ]
    }
   ],
   "source": [
    "# Python program to handle simple runtime error \n",
    "#Python 3 \n",
    "\n",
    "a = [1, 2, 3] \n",
    "try: \n",
    "\tprint (\"Second element = %d\" %(a[1])) \n",
    "\n",
    "\t# Throws error since there are only 3 elements in array \n",
    "\tprint (\"Fourth element = %d\" %(a[3])) \n",
    "\n",
    "except: \n",
    "\tprint (\"An error occurred\") \n"
   ]
  },
  {
   "cell_type": "code",
   "execution_count": 7,
   "metadata": {},
   "outputs": [
    {
     "name": "stdout",
     "output_type": "stream",
     "text": [
      "ZeroDivisionError Occurred and Handled\n"
     ]
    }
   ],
   "source": [
    "# Program to handle multiple errors with one \n",
    "# except statement \n",
    "# Python 3 \n",
    "\n",
    "def fun(a): \n",
    "\tif a < 4: \n",
    "\n",
    "\t\t# throws ZeroDivisionError for a = 3 \n",
    "\t\tb = a/(a-3) \n",
    "\n",
    "\t# throws NameError if a >= 4 \n",
    "\tprint(\"Value of b = \", b) \n",
    "\t\n",
    "try: \n",
    "\tfun(3) \n",
    "\tfun(5) \n",
    "\n",
    "# note that braces () are necessary here for \n",
    "# multiple exceptions \n",
    "except ZeroDivisionError: \n",
    "\tprint(\"ZeroDivisionError Occurred and Handled\") \n",
    "except NameError: \n",
    "\tprint(\"NameError Occurred and Handled\")\n"
   ]
  },
  {
   "cell_type": "code",
   "execution_count": 8,
   "metadata": {},
   "outputs": [
    {
     "name": "stdout",
     "output_type": "stream",
     "text": [
      "-5.0\n",
      "a/b result in 0\n"
     ]
    }
   ],
   "source": [
    "# Program to depict else clause with try-except \n",
    "# Python 3 \n",
    "# Function which returns a/b \n",
    "def AbyB(a , b): \n",
    "\ttry: \n",
    "\t\tc = ((a+b) / (a-b)) \n",
    "\texcept ZeroDivisionError: \n",
    "\t\tprint (\"a/b result in 0\") \n",
    "\telse: \n",
    "\t\tprint (c) \n",
    "\n",
    "# Driver program to test above function \n",
    "AbyB(2.0, 3.0) \n",
    "AbyB(3.0, 3.0) \n"
   ]
  }
 ],
 "metadata": {
  "kernelspec": {
   "display_name": "Python 3",
   "language": "python",
   "name": "python3"
  },
  "language_info": {
   "codemirror_mode": {
    "name": "ipython",
    "version": 3
   },
   "file_extension": ".py",
   "mimetype": "text/x-python",
   "name": "python",
   "nbconvert_exporter": "python",
   "pygments_lexer": "ipython3",
   "version": "3.11.6"
  }
 },
 "nbformat": 4,
 "nbformat_minor": 2
}
