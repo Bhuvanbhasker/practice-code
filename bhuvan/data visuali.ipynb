{
 "cells": [
  {
   "cell_type": "code",
   "execution_count": null,
   "metadata": {},
   "outputs": [],
   "source": [
    "import matplotlib.pyplot as plt\n",
    "import numpy as np\n",
    "\n",
    "np.random.seed(16)\n",
    "\n",
    "# Assuming you want to create a stepfilled plot, you may need to generate some data.\n",
    "# Here's an example with random data.\n",
    "data = np.random.randn(100)\n",
    "\n",
    "plt.hist(data, bins=20, color='blue', edgecolor='black', alpha=0.7)\n",
    "\n",
    "plt.xlabel\n"
   ]
  },
  {
   "cell_type": "code",
   "execution_count": null,
   "metadata": {},
   "outputs": [],
   "source": [
    "import seaborn as sns\n",
    "import matplotlib.pyplot as plt\n",
    "\n",
    "sns.set(color_codes=True)\n",
    "\n",
    "# Assuming you have n_rows, n_cols, and data defined\n",
    "n_rows = 2  # replace 2 with the desired number of rows\n",
    "n_cols = 4  # replace 4 with the desired number of columns\n",
    "\n",
    "# Initialize the index variable\n",
    "idx = 0\n",
    "\n",
    "# Assuming 'Outcome' is a column in your data\n",
    "outcome_column = 'Outcome'\n",
    "\n",
    "for i in range(n_rows):\n",
    "    fg, ax = plt.subplots(nrows=1, ncols=n_cols, sharey=True, figsize=(8, 2.4))\n",
    "    for j in range(n_cols):\n",
    "        # Make sure to replace 'feature_column' with the actual column name you want to plot\n",
    "        feature_column = data.columns[idx]\n",
    "        sns.violinplot(x=outcome_column, y=data[feature_column], ax=ax[j])\n",
    "        idx += 1\n",
    "        if idx >= len(data.columns):\n",
    "            break\n",
    "\n",
    "plt.show()\n"
   ]
  },
  {
   "cell_type": "code",
   "execution_count": 10,
   "metadata": {},
   "outputs": [
    {
     "ename": "ModuleNotFoundError",
     "evalue": "No module named 'cairosvg'",
     "output_type": "error",
     "traceback": [
      "\u001b[1;31m---------------------------------------------------------------------------\u001b[0m",
      "\u001b[1;31mModuleNotFoundError\u001b[0m                       Traceback (most recent call last)",
      "File \u001b[1;32m~\\AppData\\Local\\Packages\\PythonSoftwareFoundation.Python.3.11_qbz5n2kfra8p0\\LocalCache\\local-packages\\Python311\\site-packages\\IPython\\core\\formatters.py:344\u001b[0m, in \u001b[0;36mBaseFormatter.__call__\u001b[1;34m(self, obj)\u001b[0m\n\u001b[0;32m    342\u001b[0m     method \u001b[39m=\u001b[39m get_real_method(obj, \u001b[39mself\u001b[39m\u001b[39m.\u001b[39mprint_method)\n\u001b[0;32m    343\u001b[0m     \u001b[39mif\u001b[39;00m method \u001b[39mis\u001b[39;00m \u001b[39mnot\u001b[39;00m \u001b[39mNone\u001b[39;00m:\n\u001b[1;32m--> 344\u001b[0m         \u001b[39mreturn\u001b[39;00m method()\n\u001b[0;32m    345\u001b[0m     \u001b[39mreturn\u001b[39;00m \u001b[39mNone\u001b[39;00m\n\u001b[0;32m    346\u001b[0m \u001b[39melse\u001b[39;00m:\n",
      "File \u001b[1;32m~\\AppData\\Local\\Packages\\PythonSoftwareFoundation.Python.3.11_qbz5n2kfra8p0\\LocalCache\\local-packages\\Python311\\site-packages\\pygal\\graph\\base.py:235\u001b[0m, in \u001b[0;36mBaseGraph._repr_png_\u001b[1;34m(self)\u001b[0m\n\u001b[0;32m    233\u001b[0m \u001b[39mdef\u001b[39;00m \u001b[39m_repr_png_\u001b[39m(\u001b[39mself\u001b[39m):\n\u001b[0;32m    234\u001b[0m \u001b[39m    \u001b[39m\u001b[39m\"\"\"Display png in IPython notebook\"\"\"\u001b[39;00m\n\u001b[1;32m--> 235\u001b[0m     \u001b[39mreturn\u001b[39;00m \u001b[39mself\u001b[39;49m\u001b[39m.\u001b[39;49mrender_to_png()\n",
      "File \u001b[1;32m~\\AppData\\Local\\Packages\\PythonSoftwareFoundation.Python.3.11_qbz5n2kfra8p0\\LocalCache\\local-packages\\Python311\\site-packages\\pygal\\graph\\public.py:118\u001b[0m, in \u001b[0;36mPublicApi.render_to_png\u001b[1;34m(self, filename, dpi, **kwargs)\u001b[0m\n\u001b[0;32m    116\u001b[0m \u001b[39mdef\u001b[39;00m \u001b[39mrender_to_png\u001b[39m(\u001b[39mself\u001b[39m, filename\u001b[39m=\u001b[39m\u001b[39mNone\u001b[39;00m, dpi\u001b[39m=\u001b[39m\u001b[39m72\u001b[39m, \u001b[39m*\u001b[39m\u001b[39m*\u001b[39mkwargs):\n\u001b[0;32m    117\u001b[0m \u001b[39m    \u001b[39m\u001b[39m\"\"\"Render the graph, convert it to png and write it to filename\"\"\"\u001b[39;00m\n\u001b[1;32m--> 118\u001b[0m     \u001b[39mimport\u001b[39;00m \u001b[39mcairosvg\u001b[39;00m\n\u001b[0;32m    119\u001b[0m     \u001b[39mreturn\u001b[39;00m cairosvg\u001b[39m.\u001b[39msvg2png(\n\u001b[0;32m    120\u001b[0m         bytestring\u001b[39m=\u001b[39m\u001b[39mself\u001b[39m\u001b[39m.\u001b[39mrender(\u001b[39m*\u001b[39m\u001b[39m*\u001b[39mkwargs), write_to\u001b[39m=\u001b[39mfilename, dpi\u001b[39m=\u001b[39mdpi\n\u001b[0;32m    121\u001b[0m     )\n",
      "\u001b[1;31mModuleNotFoundError\u001b[0m: No module named 'cairosvg'"
     ]
    },
    {
     "data": {
      "image/svg+xml": [
       "<svg xmlns:xlink=\"http://www.w3.org/1999/xlink\" xmlns=\"http://www.w3.org/2000/svg\" id=\"chart-9e7f0265-ae42-46a5-9156-c0d766355f45\" class=\"pygal-chart\" viewBox=\"0 0 800 600\"><!--Generated with pygal 3.0.0 (etree) ©Kozea 2012-2016 on 2023-11-12--><!--http://pygal.org--><!--http://github.com/Kozea/pygal--><defs><style type=\"text/css\">#chart-9e7f0265-ae42-46a5-9156-c0d766355f45{-webkit-user-select:none;-webkit-font-smoothing:antialiased;font-family:Consolas,\"Liberation Mono\",Menlo,Courier,monospace}#chart-9e7f0265-ae42-46a5-9156-c0d766355f45 .title{font-family:Consolas,\"Liberation Mono\",Menlo,Courier,monospace;font-size:16px}#chart-9e7f0265-ae42-46a5-9156-c0d766355f45 .legends .legend text{font-family:Consolas,\"Liberation Mono\",Menlo,Courier,monospace;font-size:14px}#chart-9e7f0265-ae42-46a5-9156-c0d766355f45 .axis text{font-family:Consolas,\"Liberation Mono\",Menlo,Courier,monospace;font-size:10px}#chart-9e7f0265-ae42-46a5-9156-c0d766355f45 .axis text.major{font-family:Consolas,\"Liberation Mono\",Menlo,Courier,monospace;font-size:10px}#chart-9e7f0265-ae42-46a5-9156-c0d766355f45 .text-overlay text.value{font-family:Consolas,\"Liberation Mono\",Menlo,Courier,monospace;font-size:16px}#chart-9e7f0265-ae42-46a5-9156-c0d766355f45 .text-overlay text.label{font-family:Consolas,\"Liberation Mono\",Menlo,Courier,monospace;font-size:10px}#chart-9e7f0265-ae42-46a5-9156-c0d766355f45 .tooltip{font-family:Consolas,\"Liberation Mono\",Menlo,Courier,monospace;font-size:14px}#chart-9e7f0265-ae42-46a5-9156-c0d766355f45 text.no_data{font-family:Consolas,\"Liberation Mono\",Menlo,Courier,monospace;font-size:64px}\n",
       "#chart-9e7f0265-ae42-46a5-9156-c0d766355f45{background-color:rgba(249,249,249,1)}#chart-9e7f0265-ae42-46a5-9156-c0d766355f45 path,#chart-9e7f0265-ae42-46a5-9156-c0d766355f45 line,#chart-9e7f0265-ae42-46a5-9156-c0d766355f45 rect,#chart-9e7f0265-ae42-46a5-9156-c0d766355f45 circle{-webkit-transition:150ms;-moz-transition:150ms;transition:150ms}#chart-9e7f0265-ae42-46a5-9156-c0d766355f45 .graph &gt; .background{fill:rgba(249,249,249,1)}#chart-9e7f0265-ae42-46a5-9156-c0d766355f45 .plot &gt; .background{fill:rgba(255,255,255,1)}#chart-9e7f0265-ae42-46a5-9156-c0d766355f45 .graph{fill:rgba(0,0,0,.87)}#chart-9e7f0265-ae42-46a5-9156-c0d766355f45 text.no_data{fill:rgba(0,0,0,1)}#chart-9e7f0265-ae42-46a5-9156-c0d766355f45 .title{fill:rgba(0,0,0,1)}#chart-9e7f0265-ae42-46a5-9156-c0d766355f45 .legends .legend text{fill:rgba(0,0,0,.87)}#chart-9e7f0265-ae42-46a5-9156-c0d766355f45 .legends .legend:hover text{fill:rgba(0,0,0,1)}#chart-9e7f0265-ae42-46a5-9156-c0d766355f45 .axis .line{stroke:rgba(0,0,0,1)}#chart-9e7f0265-ae42-46a5-9156-c0d766355f45 .axis .guide.line{stroke:rgba(0,0,0,.54)}#chart-9e7f0265-ae42-46a5-9156-c0d766355f45 .axis .major.line{stroke:rgba(0,0,0,.87)}#chart-9e7f0265-ae42-46a5-9156-c0d766355f45 .axis text.major{fill:rgba(0,0,0,1)}#chart-9e7f0265-ae42-46a5-9156-c0d766355f45 .axis.y .guides:hover .guide.line,#chart-9e7f0265-ae42-46a5-9156-c0d766355f45 .line-graph .axis.x .guides:hover .guide.line,#chart-9e7f0265-ae42-46a5-9156-c0d766355f45 .stackedline-graph .axis.x .guides:hover .guide.line,#chart-9e7f0265-ae42-46a5-9156-c0d766355f45 .xy-graph .axis.x .guides:hover .guide.line{stroke:rgba(0,0,0,1)}#chart-9e7f0265-ae42-46a5-9156-c0d766355f45 .axis .guides:hover text{fill:rgba(0,0,0,1)}#chart-9e7f0265-ae42-46a5-9156-c0d766355f45 .reactive{fill-opacity:.7;stroke-opacity:.8;stroke-width:1}#chart-9e7f0265-ae42-46a5-9156-c0d766355f45 .ci{stroke:rgba(0,0,0,.87)}#chart-9e7f0265-ae42-46a5-9156-c0d766355f45 .reactive.active,#chart-9e7f0265-ae42-46a5-9156-c0d766355f45 .active .reactive{fill-opacity:.8;stroke-opacity:.9;stroke-width:4}#chart-9e7f0265-ae42-46a5-9156-c0d766355f45 .ci .reactive.active{stroke-width:1.5}#chart-9e7f0265-ae42-46a5-9156-c0d766355f45 .series text{fill:rgba(0,0,0,1)}#chart-9e7f0265-ae42-46a5-9156-c0d766355f45 .tooltip rect{fill:rgba(255,255,255,1);stroke:rgba(0,0,0,1);-webkit-transition:opacity 150ms;-moz-transition:opacity 150ms;transition:opacity 150ms}#chart-9e7f0265-ae42-46a5-9156-c0d766355f45 .tooltip .label{fill:rgba(0,0,0,.87)}#chart-9e7f0265-ae42-46a5-9156-c0d766355f45 .tooltip .label{fill:rgba(0,0,0,.87)}#chart-9e7f0265-ae42-46a5-9156-c0d766355f45 .tooltip .legend{font-size:.8em;fill:rgba(0,0,0,.54)}#chart-9e7f0265-ae42-46a5-9156-c0d766355f45 .tooltip .x_label{font-size:.6em;fill:rgba(0,0,0,1)}#chart-9e7f0265-ae42-46a5-9156-c0d766355f45 .tooltip .xlink{font-size:.5em;text-decoration:underline}#chart-9e7f0265-ae42-46a5-9156-c0d766355f45 .tooltip .value{font-size:1.5em}#chart-9e7f0265-ae42-46a5-9156-c0d766355f45 .bound{font-size:.5em}#chart-9e7f0265-ae42-46a5-9156-c0d766355f45 .max-value{font-size:.75em;fill:rgba(0,0,0,.54)}#chart-9e7f0265-ae42-46a5-9156-c0d766355f45 .map-element{fill:rgba(255,255,255,1);stroke:rgba(0,0,0,.54) !important}#chart-9e7f0265-ae42-46a5-9156-c0d766355f45 .map-element .reactive{fill-opacity:inherit;stroke-opacity:inherit}#chart-9e7f0265-ae42-46a5-9156-c0d766355f45 .color-0,#chart-9e7f0265-ae42-46a5-9156-c0d766355f45 .color-0 a:visited{stroke:#F44336;fill:#F44336}#chart-9e7f0265-ae42-46a5-9156-c0d766355f45 .color-1,#chart-9e7f0265-ae42-46a5-9156-c0d766355f45 .color-1 a:visited{stroke:#3F51B5;fill:#3F51B5}#chart-9e7f0265-ae42-46a5-9156-c0d766355f45 .color-2,#chart-9e7f0265-ae42-46a5-9156-c0d766355f45 .color-2 a:visited{stroke:#009688;fill:#009688}#chart-9e7f0265-ae42-46a5-9156-c0d766355f45 .color-3,#chart-9e7f0265-ae42-46a5-9156-c0d766355f45 .color-3 a:visited{stroke:#FFC107;fill:#FFC107}#chart-9e7f0265-ae42-46a5-9156-c0d766355f45 .text-overlay .color-0 text{fill:black}#chart-9e7f0265-ae42-46a5-9156-c0d766355f45 .text-overlay .color-1 text{fill:black}#chart-9e7f0265-ae42-46a5-9156-c0d766355f45 .text-overlay .color-2 text{fill:black}#chart-9e7f0265-ae42-46a5-9156-c0d766355f45 .text-overlay .color-3 text{fill:black}\n",
       "#chart-9e7f0265-ae42-46a5-9156-c0d766355f45 text.no_data{text-anchor:middle}#chart-9e7f0265-ae42-46a5-9156-c0d766355f45 .guide.line{fill:none}#chart-9e7f0265-ae42-46a5-9156-c0d766355f45 .centered{text-anchor:middle}#chart-9e7f0265-ae42-46a5-9156-c0d766355f45 .title{text-anchor:middle}#chart-9e7f0265-ae42-46a5-9156-c0d766355f45 .legends .legend text{fill-opacity:1}#chart-9e7f0265-ae42-46a5-9156-c0d766355f45 .axis.x text{text-anchor:middle}#chart-9e7f0265-ae42-46a5-9156-c0d766355f45 .axis.x:not(.web) text[transform]{text-anchor:start}#chart-9e7f0265-ae42-46a5-9156-c0d766355f45 .axis.x:not(.web) text[transform].backwards{text-anchor:end}#chart-9e7f0265-ae42-46a5-9156-c0d766355f45 .axis.y text{text-anchor:end}#chart-9e7f0265-ae42-46a5-9156-c0d766355f45 .axis.y text[transform].backwards{text-anchor:start}#chart-9e7f0265-ae42-46a5-9156-c0d766355f45 .axis.y2 text{text-anchor:start}#chart-9e7f0265-ae42-46a5-9156-c0d766355f45 .axis.y2 text[transform].backwards{text-anchor:end}#chart-9e7f0265-ae42-46a5-9156-c0d766355f45 .axis .guide.line{stroke-dasharray:4,4;stroke:black}#chart-9e7f0265-ae42-46a5-9156-c0d766355f45 .axis .major.guide.line{stroke-dasharray:6,6;stroke:black}#chart-9e7f0265-ae42-46a5-9156-c0d766355f45 .horizontal .axis.y .guide.line,#chart-9e7f0265-ae42-46a5-9156-c0d766355f45 .horizontal .axis.y2 .guide.line,#chart-9e7f0265-ae42-46a5-9156-c0d766355f45 .vertical .axis.x .guide.line{opacity:0}#chart-9e7f0265-ae42-46a5-9156-c0d766355f45 .horizontal .axis.always_show .guide.line,#chart-9e7f0265-ae42-46a5-9156-c0d766355f45 .vertical .axis.always_show .guide.line{opacity:1 !important}#chart-9e7f0265-ae42-46a5-9156-c0d766355f45 .axis.y .guides:hover .guide.line,#chart-9e7f0265-ae42-46a5-9156-c0d766355f45 .axis.y2 .guides:hover .guide.line,#chart-9e7f0265-ae42-46a5-9156-c0d766355f45 .axis.x .guides:hover .guide.line{opacity:1}#chart-9e7f0265-ae42-46a5-9156-c0d766355f45 .axis .guides:hover text{opacity:1}#chart-9e7f0265-ae42-46a5-9156-c0d766355f45 .nofill{fill:none}#chart-9e7f0265-ae42-46a5-9156-c0d766355f45 .subtle-fill{fill-opacity:.2}#chart-9e7f0265-ae42-46a5-9156-c0d766355f45 .dot{stroke-width:1px;fill-opacity:1;stroke-opacity:1}#chart-9e7f0265-ae42-46a5-9156-c0d766355f45 .dot.active{stroke-width:5px}#chart-9e7f0265-ae42-46a5-9156-c0d766355f45 .dot.negative{fill:transparent}#chart-9e7f0265-ae42-46a5-9156-c0d766355f45 text,#chart-9e7f0265-ae42-46a5-9156-c0d766355f45 tspan{stroke:none !important}#chart-9e7f0265-ae42-46a5-9156-c0d766355f45 .series text.active{opacity:1}#chart-9e7f0265-ae42-46a5-9156-c0d766355f45 .tooltip rect{fill-opacity:.95;stroke-width:.5}#chart-9e7f0265-ae42-46a5-9156-c0d766355f45 .tooltip text{fill-opacity:1}#chart-9e7f0265-ae42-46a5-9156-c0d766355f45 .showable{visibility:hidden}#chart-9e7f0265-ae42-46a5-9156-c0d766355f45 .showable.shown{visibility:visible}#chart-9e7f0265-ae42-46a5-9156-c0d766355f45 .gauge-background{fill:rgba(229,229,229,1);stroke:none}#chart-9e7f0265-ae42-46a5-9156-c0d766355f45 .bg-lines{stroke:rgba(249,249,249,1);stroke-width:2px}</style><script type=\"text/javascript\">window.pygal = window.pygal || {};window.pygal.config = window.pygal.config || {};window.pygal.config['9e7f0265-ae42-46a5-9156-c0d766355f45'] = {\"allow_interruptions\": false, \"box_mode\": \"extremes\", \"classes\": [\"pygal-chart\"], \"css\": [\"file://style.css\", \"file://graph.css\"], \"defs\": [], \"disable_xml_declaration\": true, \"dots_size\": 2.5, \"dynamic_print_values\": false, \"explicit_size\": false, \"fill\": false, \"force_uri_protocol\": \"https\", \"formatter\": null, \"half_pie\": false, \"height\": 600, \"include_x_axis\": false, \"inner_radius\": 0, \"interpolate\": null, \"interpolation_parameters\": {}, \"interpolation_precision\": 250, \"inverse_y_axis\": false, \"js\": [\"//kozea.github.io/pygal.js/2.0.x/pygal-tooltips.min.js\"], \"legend_at_bottom\": false, \"legend_at_bottom_columns\": null, \"legend_box_size\": 12, \"logarithmic\": false, \"margin\": 20, \"margin_bottom\": null, \"margin_left\": null, \"margin_right\": null, \"margin_top\": null, \"max_scale\": 16, \"min_scale\": 4, \"missing_value_fill_truncation\": \"x\", \"no_data_text\": \"No data\", \"no_prefix\": false, \"order_min\": null, \"pretty_print\": false, \"print_labels\": false, \"print_values\": false, \"print_values_position\": \"center\", \"print_zeroes\": true, \"range\": null, \"rounded_bars\": null, \"secondary_range\": null, \"show_dots\": true, \"show_legend\": true, \"show_minor_x_labels\": true, \"show_minor_y_labels\": true, \"show_only_major_dots\": false, \"show_x_guides\": false, \"show_x_labels\": true, \"show_y_guides\": true, \"show_y_labels\": true, \"spacing\": 10, \"stack_from_top\": false, \"strict\": false, \"stroke\": true, \"stroke_style\": null, \"style\": {\"background\": \"rgba(249, 249, 249, 1)\", \"ci_colors\": [], \"colors\": [\"#F44336\", \"#3F51B5\", \"#009688\", \"#FFC107\", \"#FF5722\", \"#9C27B0\", \"#03A9F4\", \"#8BC34A\", \"#FF9800\", \"#E91E63\", \"#2196F3\", \"#4CAF50\", \"#FFEB3B\", \"#673AB7\", \"#00BCD4\", \"#CDDC39\", \"#9E9E9E\", \"#607D8B\"], \"dot_opacity\": \"1\", \"font_family\": \"Consolas, \\\"Liberation Mono\\\", Menlo, Courier, monospace\", \"foreground\": \"rgba(0, 0, 0, .87)\", \"foreground_strong\": \"rgba(0, 0, 0, 1)\", \"foreground_subtle\": \"rgba(0, 0, 0, .54)\", \"guide_stroke_color\": \"black\", \"guide_stroke_dasharray\": \"4,4\", \"label_font_family\": \"Consolas, \\\"Liberation Mono\\\", Menlo, Courier, monospace\", \"label_font_size\": 10, \"legend_font_family\": \"Consolas, \\\"Liberation Mono\\\", Menlo, Courier, monospace\", \"legend_font_size\": 14, \"major_guide_stroke_color\": \"black\", \"major_guide_stroke_dasharray\": \"6,6\", \"major_label_font_family\": \"Consolas, \\\"Liberation Mono\\\", Menlo, Courier, monospace\", \"major_label_font_size\": 10, \"no_data_font_family\": \"Consolas, \\\"Liberation Mono\\\", Menlo, Courier, monospace\", \"no_data_font_size\": 64, \"opacity\": \".7\", \"opacity_hover\": \".8\", \"plot_background\": \"rgba(255, 255, 255, 1)\", \"stroke_opacity\": \".8\", \"stroke_opacity_hover\": \".9\", \"stroke_width\": \"1\", \"stroke_width_hover\": \"4\", \"title_font_family\": \"Consolas, \\\"Liberation Mono\\\", Menlo, Courier, monospace\", \"title_font_size\": 16, \"tooltip_font_family\": \"Consolas, \\\"Liberation Mono\\\", Menlo, Courier, monospace\", \"tooltip_font_size\": 14, \"transition\": \"150ms\", \"value_background\": \"rgba(229, 229, 229, 1)\", \"value_colors\": [], \"value_font_family\": \"Consolas, \\\"Liberation Mono\\\", Menlo, Courier, monospace\", \"value_font_size\": 16, \"value_label_font_family\": \"Consolas, \\\"Liberation Mono\\\", Menlo, Courier, monospace\", \"value_label_font_size\": 10}, \"title\": \" V8 benchmark result \", \"tooltip_border_radius\": 0, \"tooltip_fancy_mode\": true, \"truncate_label\": null, \"truncate_legend\": null, \"width\": 800, \"x_label_rotation\": 0, \"x_labels\": null, \"x_labels_major\": null, \"x_labels_major_count\": null, \"x_labels_major_every\": null, \"x_title\": null, \"xrange\": null, \"y_label_rotation\": 0, \"y_labels\": null, \"y_labels_major\": null, \"y_labels_major_count\": null, \"y_labels_major_every\": null, \"y_title\": null, \"zero\": 0, \"legends\": [\" Chrome \", \" Firefox \", \" Opera \", \" IE \"]}</script><script type=\"text/javascript\" xlink:href=\"https://kozea.github.io/pygal.js/2.0.x/pygal-tooltips.min.js\" /></defs><title> V8 benchmark result </title><g class=\"graph box-graph vertical\"><rect x=\"0\" y=\"0\" width=\"800\" height=\"600\" class=\"background\" /><g transform=\"translate(157, 46)\" class=\"plot\"><rect x=\"0\" y=\"0\" width=\"622.4\" height=\"534\" class=\"background\" /><g class=\"axis y always_show\"><g class=\"guides\"><path d=\"M0.000000 523.730769 h622.400000\" class=\"axis major line\" /><text x=\"-5\" y=\"527.2307692307693\" class=\"major\">0</text><title>0</title></g><g class=\"guides\"><path d=\"M0.000000 482.531897 h622.400000\" class=\"guide line\" /><text x=\"-5\" y=\"486.03189749350383\" class=\"\">1000</text><title>1000</title></g><g class=\"guides\"><path d=\"M0.000000 441.333026 h622.400000\" class=\"guide line\" /><text x=\"-5\" y=\"444.83302575623844\" class=\"\">2000</text><title>2000</title></g><g class=\"guides\"><path d=\"M0.000000 400.134154 h622.400000\" class=\"guide line\" /><text x=\"-5\" y=\"403.63415401897305\" class=\"\">3000</text><title>3000</title></g><g class=\"guides\"><path d=\"M0.000000 358.935282 h622.400000\" class=\"guide line\" /><text x=\"-5\" y=\"362.4352822817077\" class=\"\">4000</text><title>4000</title></g><g class=\"guides\"><path d=\"M0.000000 317.736411 h622.400000\" class=\"major guide line\" /><text x=\"-5\" y=\"321.23641054444226\" class=\"major\">5000</text><title>5000</title></g><g class=\"guides\"><path d=\"M0.000000 276.537539 h622.400000\" class=\"guide line\" /><text x=\"-5\" y=\"280.03753880717693\" class=\"\">6000</text><title>6000</title></g><g class=\"guides\"><path d=\"M0.000000 235.338667 h622.400000\" class=\"guide line\" /><text x=\"-5\" y=\"238.83866706991154\" class=\"\">7000</text><title>7000</title></g><g class=\"guides\"><path d=\"M0.000000 194.139795 h622.400000\" class=\"guide line\" /><text x=\"-5\" y=\"197.6397953326462\" class=\"\">8000</text><title>8000</title></g><g class=\"guides\"><path d=\"M0.000000 152.940924 h622.400000\" class=\"guide line\" /><text x=\"-5\" y=\"156.4409235953808\" class=\"\">9000</text><title>9000</title></g><g class=\"guides\"><path d=\"M0.000000 111.742052 h622.400000\" class=\"major guide line\" /><text x=\"-5\" y=\"115.24205185811542\" class=\"major\">10000</text><title>10000</title></g><g class=\"guides\"><path d=\"M0.000000 70.543180 h622.400000\" class=\"guide line\" /><text x=\"-5\" y=\"74.04318012085002\" class=\"\">11000</text><title>11000</title></g><g class=\"guides\"><path d=\"M0.000000 29.344308 h622.400000\" class=\"guide line\" /><text x=\"-5\" y=\"32.84430838358469\" class=\"\">12000</text><title>12000</title></g></g><g class=\"series serie-0 color-0\"><g class=\"boxes\"><g class=\"box\"><path stroke-width=\"3\" d=\"M53.861538 455.381841 L119.692308 455.381841\" class=\"reactive tooltip-trigger\" /><path stroke-width=\"3\" d=\"M20.946154 220.177482 L152.607692 220.177482\" class=\"reactive tooltip-trigger\" /><path stroke-width=\"3\" d=\"M53.861538 10.269231 L119.692308 10.269231\" class=\"reactive tooltip-trigger\" /><path stroke-width=\"2\" d=\"M86.776923 455.381841 L86.776923 348.305973\" class=\"reactive tooltip-trigger\" /><path stroke-width=\"2\" d=\"M86.776923 10.269231 L86.776923 177.310056\" class=\"reactive tooltip-trigger\" /><rect x=\"20.946153846153848\" y=\"177.3100562279733\" height=\"170.9959171455199\" width=\"131.66153846153847\" class=\"subtle-fill reactive tooltip-trigger\" /><desc class=\"value\">Min: 1659\n",
       "Q1 : 4258\n",
       "Q2 : 7368\n",
       "Q3 : 8408.5\n",
       "Max: 12463</desc><desc class=\"x centered\">86.77692307692308</desc><desc class=\"y centered\">242.28891673198825</desc></g></g></g><g class=\"series serie-1 color-1\"><g class=\"boxes\"><g class=\"box\"><path stroke-width=\"3\" d=\"M203.476923 480.760346 L269.307692 480.760346\" class=\"reactive tooltip-trigger\" /><path stroke-width=\"3\" d=\"M170.561538 238.799372 L302.223077 238.799372\" class=\"reactive tooltip-trigger\" /><path stroke-width=\"3\" d=\"M203.476923 41.745169 L269.307692 41.745169\" class=\"reactive tooltip-trigger\" /><path stroke-width=\"2\" d=\"M236.392308 480.760346 L236.392308 390.946806\" class=\"reactive tooltip-trigger\" /><path stroke-width=\"2\" d=\"M236.392308 41.745169 L236.392308 162.272468\" class=\"reactive tooltip-trigger\" /><rect x=\"170.56153846153845\" y=\"162.2724680438714\" height=\"228.67433757769152\" width=\"131.66153846153847\" class=\"subtle-fill reactive tooltip-trigger\" /><desc class=\"value\">Min: 1043\n",
       "Q1 : 3223\n",
       "Q2 : 6916\n",
       "Q3 : 8773.5\n",
       "Max: 11699</desc><desc class=\"x centered\">236.39230769230767</desc><desc class=\"y centered\">262.90483214931584</desc></g></g></g><g class=\"series serie-2 color-2\"><g class=\"boxes\"><g class=\"box\"><path stroke-width=\"3\" d=\"M353.092308 448.460431 L418.923077 448.460431\" class=\"reactive tooltip-trigger\" /><path stroke-width=\"3\" d=\"M320.176923 341.013773 L451.838462 341.013773\" class=\"reactive tooltip-trigger\" /><path stroke-width=\"3\" d=\"M353.092308 152.446537 L418.923077 152.446537\" class=\"reactive tooltip-trigger\" /><path stroke-width=\"2\" d=\"M386.007692 448.460431 L386.007692 391.832581\" class=\"reactive tooltip-trigger\" /><path stroke-width=\"2\" d=\"M386.007692 152.446537 L386.007692 296.333597\" class=\"reactive tooltip-trigger\" /><rect x=\"320.17692307692306\" y=\"296.3335966769329\" height=\"95.49898468698115\" width=\"131.66153846153847\" class=\"subtle-fill reactive tooltip-trigger\" /><desc class=\"value\">Min: 1827\n",
       "Q1 : 3201.5\n",
       "Q2 : 4435\n",
       "Q3 : 5519.5\n",
       "Max: 9012</desc><desc class=\"x centered\">386.0076923076923</desc><desc class=\"y centered\">326.01738376363267</desc></g></g></g><g class=\"series serie-3 color-3\"><g class=\"boxes\"><g class=\"box\"><path stroke-width=\"3\" d=\"M502.707692 522.371206 L568.538462 522.371206\" class=\"reactive tooltip-trigger\" /><path stroke-width=\"3\" d=\"M469.792308 520.929246 L601.453846 520.929246\" class=\"reactive tooltip-trigger\" /><path stroke-width=\"3\" d=\"M502.707692 517.839331 L568.538462 517.839331\" class=\"reactive tooltip-trigger\" /><path stroke-width=\"2\" d=\"M535.623077 522.371206 L535.623077 522.041615\" class=\"reactive tooltip-trigger\" /><path stroke-width=\"2\" d=\"M535.623077 517.839331 L535.623077 518.869302\" class=\"reactive tooltip-trigger\" /><rect x=\"469.79230769230765\" y=\"518.8693023657719\" height=\"3.1723131237694133\" width=\"131.66153846153847\" class=\"subtle-fill reactive tooltip-trigger\" /><desc class=\"value\">Min: 33\n",
       "Q1 : 41\n",
       "Q2 : 68\n",
       "Q3 : 118\n",
       "Max: 143</desc><desc class=\"x centered\">535.6230769230768</desc><desc class=\"y centered\">520.4101401687457</desc></g></g></g></g><g class=\"titles\"><text x=\"400.0\" y=\"26\" class=\"title plot_title\"> V8 benchmark result </text></g><g transform=\"translate(157, 46)\" class=\"plot overlay\"><g class=\"series serie-0 color-0\" /><g class=\"series serie-1 color-1\" /><g class=\"series serie-2 color-2\" /><g class=\"series serie-3 color-3\" /></g><g transform=\"translate(157, 46)\" class=\"plot text-overlay\"><g class=\"series serie-0 color-0\" /><g class=\"series serie-1 color-1\" /><g class=\"series serie-2 color-2\" /><g class=\"series serie-3 color-3\" /></g><g transform=\"translate(157, 46)\" class=\"plot tooltip-overlay\"><g transform=\"translate(0 0)\" style=\"opacity: 0\" class=\"tooltip\"><rect rx=\"0\" ry=\"0\" width=\"0\" height=\"0\" class=\"tooltip-box\" /><g class=\"text\" /></g></g><g transform=\"translate(10, 56)\" class=\"legends\"><g id=\"activate-serie-0\" class=\"legend reactive activate-serie\"><rect x=\"0.0\" y=\"1.0\" width=\"12\" height=\"12\" class=\"color-0 reactive\" /><text x=\"17.0\" y=\"11.2\"> Chrome </text></g><g id=\"activate-serie-1\" class=\"legend reactive activate-serie\"><rect x=\"0.0\" y=\"22.0\" width=\"12\" height=\"12\" class=\"color-1 reactive\" /><text x=\"17.0\" y=\"32.2\"> Firefox </text></g><g id=\"activate-serie-2\" class=\"legend reactive activate-serie\"><rect x=\"0.0\" y=\"43.0\" width=\"12\" height=\"12\" class=\"color-2 reactive\" /><text x=\"17.0\" y=\"53.2\"> Opera </text></g><g id=\"activate-serie-3\" class=\"legend reactive activate-serie\"><rect x=\"0.0\" y=\"64.0\" width=\"12\" height=\"12\" class=\"color-3 reactive\" /><text x=\"17.0\" y=\"74.2\"> IE </text></g></g><g transform=\"translate(790, 56)\" class=\"legends\" /></g></svg>"
      ],
      "text/plain": [
       "<pygal.graph.box.Box at 0x1e13cd26350>"
      ]
     },
     "execution_count": 10,
     "metadata": {},
     "output_type": "execute_result"
    }
   ],
   "source": [
    "import pygal  \n",
    "box_plot = pygal.Box()  \n",
    "box_plot.title = ' V8 benchmark result '  \n",
    "box_plot.add ( ' Chrome ', [ 6394, 8211, 7519, 7217, 12463, 1659, 2122, 8606 ] )  \n",
    "box_plot.add ( ' Firefox ', [ 7472, 8098, 11699, 2650, 6360, 1043, 3796, 9449 ] )  \n",
    "box_plot.add ( ' Opera ', [ 3471, 2932, 4202, 5228, 5811, 1827, 9012, 4668 ] )  \n",
    "box_plot.add ( ' IE ', [ 42, 40, 58, 78, 143, 135, 33, 101 ] ) "
   ]
  },
  {
   "cell_type": "code",
   "execution_count": null,
   "metadata": {},
   "outputs": [],
   "source": []
  }
 ],
 "metadata": {
  "kernelspec": {
   "display_name": "Python 3",
   "language": "python",
   "name": "python3"
  },
  "language_info": {
   "codemirror_mode": {
    "name": "ipython",
    "version": 3
   },
   "file_extension": ".py",
   "mimetype": "text/x-python",
   "name": "python",
   "nbconvert_exporter": "python",
   "pygments_lexer": "ipython3",
   "version": "3.11.6"
  }
 },
 "nbformat": 4,
 "nbformat_minor": 2
}
